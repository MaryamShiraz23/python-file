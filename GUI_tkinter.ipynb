{
 "cells": [
  {
   "cell_type": "code",
   "execution_count": null,
   "id": "8dcc5278-6976-4d89-96f7-f9828110b870",
   "metadata": {},
   "outputs": [],
   "source": [
    "from tkinter import*\n",
    "import tkinter as tk\n",
    "\n",
    "window = tk.Tk()\n",
    "window.title(\"GUI\")\n",
    "window.configure(bg =\"red\")\n",
    "window.geometry('400x500')\n",
    "l1 = Label(window,text='hello',bg='orange',fg='brown',font=('algerian',24,'italic'))\n",
    "l1.pack(fill=X)\n",
    "\n",
    "l2 = Label(window,text='welcome to my gui',bg='yellow',fg='brown',font=('arial',24,'italic'))\n",
    "l2.pack(fill=X)\n",
    "\n",
    "l3 = Label(window,text='Enter your name:' ,bg='red',fg='white',font=('arial',18,'bold'))\n",
    "l3.pack(fill=X)\n",
    "\n",
    "name=StringVar()\n",
    "box = Entry(window,bd = 4,textvariable=name)\n",
    "box.pack(fill=X)\n",
    "\n",
    "window.mainloop()"
   ]
  },
  {
   "cell_type": "code",
   "execution_count": null,
   "id": "2e64b452-d0ca-4adb-ba7e-e5b573e35772",
   "metadata": {},
   "outputs": [],
   "source": []
  }
 ],
 "metadata": {
  "kernelspec": {
   "display_name": "Python 3 (ipykernel)",
   "language": "python",
   "name": "python3"
  },
  "language_info": {
   "codemirror_mode": {
    "name": "ipython",
    "version": 3
   },
   "file_extension": ".py",
   "mimetype": "text/x-python",
   "name": "python",
   "nbconvert_exporter": "python",
   "pygments_lexer": "ipython3",
   "version": "3.12.0"
  }
 },
 "nbformat": 4,
 "nbformat_minor": 5
}
